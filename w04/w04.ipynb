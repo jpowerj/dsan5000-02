{
 "cells": [
  {
   "cell_type": "code",
   "execution_count": 10,
   "metadata": {},
   "outputs": [
    {
     "data": {
      "text/plain": [
       "['Foundations',\n",
       " 'Etymology',\n",
       " 'Data Science and Data Analysis',\n",
       " 'History',\n",
       " 'See also',\n",
       " 'References']"
      ]
     },
     "execution_count": 10,
     "metadata": {},
     "output_type": "execute_result"
    }
   ],
   "source": [
    "#| label: requests-example\n",
    "#| echo: true\n",
    "#| code-fold: show\n",
    "# Get HTML\n",
    "import requests\n",
    "# Perform request\n",
    "response = requests.get(\"https://en.wikipedia.org/wiki/Data_science\")\n",
    "# Parse HTML\n",
    "from bs4 import BeautifulSoup\n",
    "soup = BeautifulSoup(response.text, 'html.parser')\n",
    "all_headers = soup.find_all(\"h2\")\n",
    "section_headers = [h.find(\"span\", {'class': 'mw-headline'}).text for h in all_headers[1:]]\n",
    "section_headers"
   ]
  },
  {
   "cell_type": "code",
   "execution_count": 3,
   "metadata": {},
   "outputs": [
    {
     "name": "stdout",
     "output_type": "stream",
     "text": [
      "None\n"
     ]
    },
    {
     "ename": "AssertionError",
     "evalue": "",
     "output_type": "error",
     "traceback": [
      "\u001b[0;31m---------------------------------------------------------------------------\u001b[0m",
      "\u001b[0;31mAssertionError\u001b[0m                            Traceback (most recent call last)",
      "\u001b[1;32m/Users/jpj/Library/CloudStorage/Dropbox/gtown/dsan5000-02/w04/w04.ipynb Cell 2\u001b[0m line \u001b[0;36m1\n\u001b[1;32m      <a href='vscode-notebook-cell:/Users/jpj/Library/CloudStorage/Dropbox/gtown/dsan5000-02/w04/w04.ipynb#W1sZmlsZQ%3D%3D?line=7'>8</a>\u001b[0m \u001b[39mimport\u001b[39;00m \u001b[39mgithub\u001b[39;00m\n\u001b[1;32m      <a href='vscode-notebook-cell:/Users/jpj/Library/CloudStorage/Dropbox/gtown/dsan5000-02/w04/w04.ipynb#W1sZmlsZQ%3D%3D?line=8'>9</a>\u001b[0m \u001b[39m## Using an access token\u001b[39;00m\n\u001b[0;32m---> <a href='vscode-notebook-cell:/Users/jpj/Library/CloudStorage/Dropbox/gtown/dsan5000-02/w04/w04.ipynb#W1sZmlsZQ%3D%3D?line=9'>10</a>\u001b[0m auth \u001b[39m=\u001b[39m github\u001b[39m.\u001b[39;49mAuth\u001b[39m.\u001b[39;49mToken(my_access_token)\n\u001b[1;32m     <a href='vscode-notebook-cell:/Users/jpj/Library/CloudStorage/Dropbox/gtown/dsan5000-02/w04/w04.ipynb#W1sZmlsZQ%3D%3D?line=10'>11</a>\u001b[0m g \u001b[39m=\u001b[39m Github(auth\u001b[39m=\u001b[39mauth)\n\u001b[1;32m     <a href='vscode-notebook-cell:/Users/jpj/Library/CloudStorage/Dropbox/gtown/dsan5000-02/w04/w04.ipynb#W1sZmlsZQ%3D%3D?line=11'>12</a>\u001b[0m g\u001b[39m.\u001b[39mget_user()\u001b[39m.\u001b[39mget_repos()\n",
      "File \u001b[0;32m~/.pyenv/versions/3.11.5/lib/python3.11/site-packages/github/Auth.py:107\u001b[0m, in \u001b[0;36mToken.__init__\u001b[0;34m(self, token)\u001b[0m\n\u001b[1;32m    106\u001b[0m \u001b[39mdef\u001b[39;00m \u001b[39m__init__\u001b[39m(\u001b[39mself\u001b[39m, token: \u001b[39mstr\u001b[39m):\n\u001b[0;32m--> 107\u001b[0m     \u001b[39massert\u001b[39;00m \u001b[39misinstance\u001b[39m(token, \u001b[39mstr\u001b[39m)\n\u001b[1;32m    108\u001b[0m     \u001b[39massert\u001b[39;00m \u001b[39mlen\u001b[39m(token) \u001b[39m>\u001b[39m \u001b[39m0\u001b[39m\n\u001b[1;32m    109\u001b[0m     \u001b[39mself\u001b[39m\u001b[39m.\u001b[39m_token \u001b[39m=\u001b[39m token\n",
      "\u001b[0;31mAssertionError\u001b[0m: "
     ]
    }
   ],
   "source": [
    "#| label: pygithub-authenticate\n",
    "#| echo: true\n",
    "#| code-fold: show\n",
    "# Loading the access token securely\n",
    "import os\n",
    "my_access_token = os.getenv('GITHUB_TOKEN')\n",
    "print(my_access_token)\n",
    "import github\n",
    "## Using an access token\n",
    "auth = github.Auth.Token(my_access_token)\n",
    "g = Github(auth=auth)\n",
    "g.get_user().get_repos()"
   ]
  },
  {
   "cell_type": "code",
   "execution_count": 4,
   "metadata": {},
   "outputs": [
    {
     "data": {
      "text/plain": [
       "environ{'COMMAND_MODE': 'unix2003',\n",
       "        'HOME': '/Users/jpj',\n",
       "        'HOMEBREW_CELLAR': '/opt/homebrew/Cellar',\n",
       "        'HOMEBREW_PREFIX': '/opt/homebrew',\n",
       "        'HOMEBREW_REPOSITORY': '/opt/homebrew',\n",
       "        'INFOPATH': '/opt/homebrew/share/info:',\n",
       "        'LOGNAME': 'jpj',\n",
       "        'LaunchInstanceID': '86B47DC7-E85D-49BB-B588-183F53848482',\n",
       "        'MANPATH': '/opt/local/share/man:/opt/homebrew/share/man::',\n",
       "        'MallocNanoZone': '0',\n",
       "        'OLDPWD': '/',\n",
       "        'ORIGINAL_XDG_CURRENT_DESKTOP': 'undefined',\n",
       "        'PATH': '/Users/jpj/.pyenv/versions/3.11.5/bin:/Users/jpj/.pyenv/shims:/Library/Frameworks/Python.framework/Versions/3.11/bin:/Users/jpj/.rbenv/shims:/Library/Frameworks/Python.framework/Versions/3.11/bin:/opt/local/bin:/opt/local/sbin:/opt/homebrew/bin:/opt/homebrew/sbin:/usr/local/bin:/System/Cryptexes/App/usr/bin:/usr/bin:/bin:/usr/sbin:/sbin:/Library/TeX/texbin:/Applications/quarto/bin:/var/run/com.apple.security.cryptexd/codex.system/bootstrap/usr/local/bin:/var/run/com.apple.security.cryptexd/codex.system/bootstrap/usr/bin:/var/run/com.apple.security.cryptexd/codex.system/bootstrap/usr/appleinternal/bin',\n",
       "        'PWD': '/',\n",
       "        'PYENV_SHELL': 'zsh',\n",
       "        'RBENV_SHELL': 'zsh',\n",
       "        'SECURITYSESSIONID': '186b4',\n",
       "        'SHELL': '/bin/zsh',\n",
       "        'SHLVL': '0',\n",
       "        'SSH_AUTH_SOCK': '/private/tmp/com.apple.launchd.zR0Lj2Odfa/Listeners',\n",
       "        'TMPDIR': '/var/folders/n2/m7_fj5vx6c50_yj7g23mwmq00000gn/T/',\n",
       "        'USER': 'jpj',\n",
       "        'VSCODE_AMD_ENTRYPOINT': 'vs/workbench/api/node/extensionHostProcess',\n",
       "        'VSCODE_CODE_CACHE_PATH': '/Users/jpj/Library/Application Support/Code/CachedData/8b617bd08fd9e3fc94d14adb8d358b56e3f72314',\n",
       "        'VSCODE_CRASH_REPORTER_PROCESS_TYPE': 'extensionHost',\n",
       "        'VSCODE_CWD': '/',\n",
       "        'VSCODE_HANDLES_UNCAUGHT_ERRORS': 'true',\n",
       "        'VSCODE_IPC_HOOK': '/Users/jpj/Library/Application Support/Code/1.82-main.sock',\n",
       "        'VSCODE_NLS_CONFIG': '{\"locale\":\"en-us\",\"osLocale\":\"en-us\",\"availableLanguages\":{},\"_languagePackSupport\":true}',\n",
       "        'VSCODE_PID': '713',\n",
       "        'XPC_FLAGS': '0x0',\n",
       "        'XPC_SERVICE_NAME': 'application.com.microsoft.VSCode.9621297.9621303',\n",
       "        '_': '/Applications/Visual Studio Code.app/Contents/MacOS/Electron',\n",
       "        '__CFBundleIdentifier': 'com.microsoft.VSCode',\n",
       "        '__CF_USER_TEXT_ENCODING': '0x1F5:0x0:0x0',\n",
       "        'ELECTRON_RUN_AS_NODE': '1',\n",
       "        'PYDEVD_IPYTHON_COMPATIBLE_DEBUGGING': '1',\n",
       "        'PYTHONUNBUFFERED': '1',\n",
       "        'PYTHONIOENCODING': 'utf-8',\n",
       "        'LC_CTYPE': 'UTF-8',\n",
       "        'PYDEVD_USE_FRAME_EVAL': 'NO',\n",
       "        'TERM': 'xterm-color',\n",
       "        'CLICOLOR': '1',\n",
       "        'FORCE_COLOR': '1',\n",
       "        'CLICOLOR_FORCE': '1',\n",
       "        'PAGER': 'cat',\n",
       "        'GIT_PAGER': 'cat',\n",
       "        'MPLBACKEND': 'module://matplotlib_inline.backend_inline'}"
      ]
     },
     "execution_count": 4,
     "metadata": {},
     "output_type": "execute_result"
    }
   ],
   "source": [
    "import os\n",
    "os.environ"
   ]
  },
  {
   "cell_type": "code",
   "execution_count": null,
   "metadata": {},
   "outputs": [],
   "source": []
  }
 ],
 "metadata": {
  "kernelspec": {
   "display_name": "Python 3",
   "language": "python",
   "name": "python3"
  },
  "language_info": {
   "codemirror_mode": {
    "name": "ipython",
    "version": 3
   },
   "file_extension": ".py",
   "mimetype": "text/x-python",
   "name": "python",
   "nbconvert_exporter": "python",
   "pygments_lexer": "ipython3",
   "version": "3.11.5"
  },
  "orig_nbformat": 4
 },
 "nbformat": 4,
 "nbformat_minor": 2
}
